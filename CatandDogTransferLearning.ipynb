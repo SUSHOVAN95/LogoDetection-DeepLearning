{
  "nbformat": 4,
  "nbformat_minor": 0,
  "metadata": {
    "colab": {
      "name": "CatandDogTransferLearning.ipynb",
      "provenance": [],
      "authorship_tag": "ABX9TyM8TbCvZb1Wcp2wnN0LaI/Y",
      "include_colab_link": true
    },
    "kernelspec": {
      "name": "python3",
      "display_name": "Python 3"
    },
    "accelerator": "GPU"
  },
  "cells": [
    {
      "cell_type": "markdown",
      "metadata": {
        "id": "view-in-github",
        "colab_type": "text"
      },
      "source": [
        "<a href=\"https://colab.research.google.com/github/SUSHOVAN95/LogoDetection-DeepLearning/blob/master/CatandDogTransferLearning.ipynb\" target=\"_parent\"><img src=\"https://colab.research.google.com/assets/colab-badge.svg\" alt=\"Open In Colab\"/></a>"
      ]
    },
    {
      "cell_type": "code",
      "metadata": {
        "id": "On30cqF6Tevm"
      },
      "source": [
        "# import the necessary packages\n",
        "from tensorflow.keras.preprocessing.image import ImageDataGenerator\n",
        "from tensorflow.keras.applications import MobileNetV2\n",
        "from tensorflow.keras.layers import AveragePooling2D\n",
        "from tensorflow.keras.layers import Dropout\n",
        "from tensorflow.keras.layers import Flatten\n",
        "from tensorflow.keras.layers import Dense\n",
        "from tensorflow.keras.layers import Input\n",
        "from tensorflow.keras.models import Model\n",
        "from tensorflow.keras.optimizers import Adam,SGD\n",
        "from tensorflow.keras.applications.mobilenet_v2 import preprocess_input\n",
        "from tensorflow.keras.preprocessing.image import img_to_array\n",
        "from tensorflow.keras.preprocessing.image import load_img\n",
        "from tensorflow.keras.utils import to_categorical\n",
        "from sklearn.preprocessing import LabelBinarizer\n",
        "from sklearn.model_selection import train_test_split\n",
        "from sklearn.metrics import classification_report\n",
        "from imutils import paths\n",
        "import matplotlib.pyplot as plt\n",
        "import numpy as np\n",
        "import argparse\n",
        "import os\n",
        "import cv2"
      ],
      "execution_count": 18,
      "outputs": []
    },
    {
      "cell_type": "code",
      "metadata": {
        "colab": {
          "base_uri": "https://localhost:8080/"
        },
        "id": "zWhOc7ZGWnN2",
        "outputId": "8f2fb865-43cb-470a-ae16-c4213d2364cb"
      },
      "source": [
        "!pip install PIL"
      ],
      "execution_count": 44,
      "outputs": [
        {
          "output_type": "stream",
          "text": [
            "\u001b[31mERROR: Could not find a version that satisfies the requirement PIL (from versions: none)\u001b[0m\n",
            "\u001b[31mERROR: No matching distribution found for PIL\u001b[0m\n"
          ],
          "name": "stdout"
        }
      ]
    },
    {
      "cell_type": "code",
      "metadata": {
        "id": "H1suWvSvVCfT",
        "colab": {
          "base_uri": "https://localhost:8080/"
        },
        "outputId": "1d46969b-b7c6-4fc7-aad0-93a368612440"
      },
      "source": [
        "import tensorflow as tf\n",
        "_URL = 'https://download.microsoft.com/download/3/E/1/3E1C3F21-ECDB-4869-8368-6DEBA77B919F/kagglecatsanddogs_3367a.zip'\n",
        "zip_dir = tf.keras.utils.get_file('cats_and_dogs.zip', origin=_URL, extract=True)"
      ],
      "execution_count": 2,
      "outputs": [
        {
          "output_type": "stream",
          "text": [
            "Downloading data from https://download.microsoft.com/download/3/E/1/3E1C3F21-ECDB-4869-8368-6DEBA77B919F/kagglecatsanddogs_3367a.zip\n",
            "824901632/824894548 [==============================] - 5s 0us/step\n"
          ],
          "name": "stdout"
        }
      ]
    },
    {
      "cell_type": "code",
      "metadata": {
        "id": "jbOId41Rcuo9",
        "colab": {
          "base_uri": "https://localhost:8080/",
          "height": 35
        },
        "outputId": "5bc23c72-e9ae-462e-c14e-f30a06823939"
      },
      "source": [
        "zip_dir"
      ],
      "execution_count": 3,
      "outputs": [
        {
          "output_type": "execute_result",
          "data": {
            "application/vnd.google.colaboratory.intrinsic+json": {
              "type": "string"
            },
            "text/plain": [
              "'/root/.keras/datasets/cats_and_dogs.zip'"
            ]
          },
          "metadata": {
            "tags": []
          },
          "execution_count": 3
        }
      ]
    },
    {
      "cell_type": "code",
      "metadata": {
        "id": "tv4R45rzVaEu"
      },
      "source": [
        "!unzip /root/.keras/datasets/cats_and_dogs.zip"
      ],
      "execution_count": null,
      "outputs": []
    },
    {
      "cell_type": "code",
      "metadata": {
        "id": "HevuKnEXVruN",
        "colab": {
          "base_uri": "https://localhost:8080/"
        },
        "outputId": "8fa9e1db-643a-4f62-ae43-368d3fbdc9fa"
      },
      "source": [
        "!ls"
      ],
      "execution_count": 5,
      "outputs": [
        {
          "output_type": "stream",
          "text": [
            "'MSR-LA - 3467.docx'   PetImages  'readme[1].txt'   sample_data\n"
          ],
          "name": "stdout"
        }
      ]
    },
    {
      "cell_type": "code",
      "metadata": {
        "id": "4nz_ioZvdaz9"
      },
      "source": [
        "# initialize the initial learning rate, number of epochs to train for,\n",
        "# and batch size\n",
        "IMG_SIZE = 224\n",
        "INIT_LR = 1e-4\n",
        "BS = 16"
      ],
      "execution_count": 34,
      "outputs": []
    },
    {
      "cell_type": "code",
      "metadata": {
        "id": "_Ylq4wF5MNTt"
      },
      "source": [
        "EPOCHS = 20"
      ],
      "execution_count": 72,
      "outputs": []
    },
    {
      "cell_type": "code",
      "metadata": {
        "id": "eIJH2pUfR6eV"
      },
      "source": [
        "train = ImageDataGenerator(\n",
        "rescale = 1./255,\n",
        "horizontal_flip=True,\n",
        "vertical_flip=True,\n",
        "shear_range=0.2,\n",
        "zoom_range=0.2,\n",
        "rotation_range=40, # Degree range for random rotations\n",
        "width_shift_range=0.2,\n",
        "height_shift_range=0.2,\n",
        "fill_mode='nearest',\n",
        "validation_split=0.2)"
      ],
      "execution_count": 46,
      "outputs": []
    },
    {
      "cell_type": "code",
      "metadata": {
        "id": "9l1ieNQojmSq"
      },
      "source": [
        "dest = '/content/PetImages'"
      ],
      "execution_count": 37,
      "outputs": []
    },
    {
      "cell_type": "code",
      "metadata": {
        "id": "vCddBXGQYpsZ"
      },
      "source": [
        "import PIL\n",
        "from pathlib import Path\n",
        "from PIL import UnidentifiedImageError"
      ],
      "execution_count": 45,
      "outputs": []
    },
    {
      "cell_type": "code",
      "metadata": {
        "colab": {
          "base_uri": "https://localhost:8080/"
        },
        "id": "4G8z8_2lY1mz",
        "outputId": "461345ff-985d-42e9-f076-645a27bb67f1"
      },
      "source": [
        "path = Path('/content/PetImages/Cat').rglob(\"*.jpg\")\n",
        "for img_p in path:\n",
        "    try:\n",
        "        img = PIL.Image.open(img_p)\n",
        "    except PIL.UnidentifiedImageError:\n",
        "            print(img_p)"
      ],
      "execution_count": 48,
      "outputs": [
        {
          "output_type": "stream",
          "text": [
            "/content/PetImages/Cat/666.jpg\n"
          ],
          "name": "stdout"
        }
      ]
    },
    {
      "cell_type": "code",
      "metadata": {
        "colab": {
          "base_uri": "https://localhost:8080/"
        },
        "id": "LZP3GET3aRnd",
        "outputId": "efa5d8e4-783f-43c6-ecec-1b6396e03a66"
      },
      "source": [
        "import os\n",
        "try: \n",
        "    os.remove(\"/content/PetImages/Cat/666.jpg\")\n",
        "    print(\"removed\")\n",
        "except:\n",
        "  print(\"can't remove\") \n",
        "  pass"
      ],
      "execution_count": 51,
      "outputs": [
        {
          "output_type": "stream",
          "text": [
            "removed\n"
          ],
          "name": "stdout"
        }
      ]
    },
    {
      "cell_type": "code",
      "metadata": {
        "colab": {
          "base_uri": "https://localhost:8080/"
        },
        "id": "z5bTpl7vZVmT",
        "outputId": "99c6c318-156b-4181-9bf4-9eb511729abc"
      },
      "source": [
        "path = Path('/content/PetImages/Dog').rglob(\"*.jpg\")\n",
        "for img_p in path:\n",
        "    try:\n",
        "        img = PIL.Image.open(img_p)\n",
        "    except PIL.UnidentifiedImageError:\n",
        "            print(img_p)"
      ],
      "execution_count": 49,
      "outputs": [
        {
          "output_type": "stream",
          "text": [
            "/usr/local/lib/python3.7/dist-packages/PIL/TiffImagePlugin.py:770: UserWarning: Possibly corrupt EXIF data.  Expecting to read 32 bytes but only got 0. Skipping tag 270\n",
            "  \" Skipping tag %s\" % (size, len(data), tag)\n",
            "/usr/local/lib/python3.7/dist-packages/PIL/TiffImagePlugin.py:770: UserWarning: Possibly corrupt EXIF data.  Expecting to read 5 bytes but only got 0. Skipping tag 271\n",
            "  \" Skipping tag %s\" % (size, len(data), tag)\n",
            "/usr/local/lib/python3.7/dist-packages/PIL/TiffImagePlugin.py:770: UserWarning: Possibly corrupt EXIF data.  Expecting to read 8 bytes but only got 0. Skipping tag 272\n",
            "  \" Skipping tag %s\" % (size, len(data), tag)\n",
            "/usr/local/lib/python3.7/dist-packages/PIL/TiffImagePlugin.py:770: UserWarning: Possibly corrupt EXIF data.  Expecting to read 8 bytes but only got 0. Skipping tag 282\n",
            "  \" Skipping tag %s\" % (size, len(data), tag)\n",
            "/usr/local/lib/python3.7/dist-packages/PIL/TiffImagePlugin.py:770: UserWarning: Possibly corrupt EXIF data.  Expecting to read 8 bytes but only got 0. Skipping tag 283\n",
            "  \" Skipping tag %s\" % (size, len(data), tag)\n",
            "/usr/local/lib/python3.7/dist-packages/PIL/TiffImagePlugin.py:770: UserWarning: Possibly corrupt EXIF data.  Expecting to read 20 bytes but only got 0. Skipping tag 306\n",
            "  \" Skipping tag %s\" % (size, len(data), tag)\n",
            "/usr/local/lib/python3.7/dist-packages/PIL/TiffImagePlugin.py:770: UserWarning: Possibly corrupt EXIF data.  Expecting to read 48 bytes but only got 0. Skipping tag 532\n",
            "  \" Skipping tag %s\" % (size, len(data), tag)\n",
            "/usr/local/lib/python3.7/dist-packages/PIL/TiffImagePlugin.py:788: UserWarning: Corrupt EXIF data.  Expecting to read 2 bytes but only got 0. \n",
            "  warnings.warn(str(msg))\n"
          ],
          "name": "stderr"
        },
        {
          "output_type": "stream",
          "text": [
            "/content/PetImages/Dog/11702.jpg\n"
          ],
          "name": "stdout"
        }
      ]
    },
    {
      "cell_type": "code",
      "metadata": {
        "colab": {
          "base_uri": "https://localhost:8080/"
        },
        "id": "WYZufgxPZ9Bx",
        "outputId": "40a7d92d-6784-4557-abaf-a1e854e61d86"
      },
      "source": [
        "import os\n",
        "try: \n",
        "    os.remove(\"/content/PetImages/Dog/11702.jpg\")\n",
        "    print(\"removed\")\n",
        "except:\n",
        "  print(\"can't remove\") \n",
        "  pass"
      ],
      "execution_count": 50,
      "outputs": [
        {
          "output_type": "stream",
          "text": [
            "removed\n"
          ],
          "name": "stdout"
        }
      ]
    },
    {
      "cell_type": "code",
      "metadata": {
        "id": "pKnU841UiMBZ",
        "colab": {
          "base_uri": "https://localhost:8080/"
        },
        "outputId": "3ff6ce42-05ef-4d8c-b9ad-2c6c8489bf1c"
      },
      "source": [
        "trainset = train.flow_from_directory(dest,\n",
        "target_size = (IMG_SIZE,IMG_SIZE),\n",
        "batch_size = BS,\n",
        "shuffle=False,\n",
        "seed=42,\n",
        "color_mode='rgb',\n",
        "subset = \"training\",\n",
        "class_mode='categorical')\n"
      ],
      "execution_count": 69,
      "outputs": [
        {
          "output_type": "stream",
          "text": [
            "Found 20000 images belonging to 2 classes.\n"
          ],
          "name": "stdout"
        }
      ]
    },
    {
      "cell_type": "code",
      "metadata": {
        "colab": {
          "base_uri": "https://localhost:8080/"
        },
        "id": "ckP5LXjhtvNz",
        "outputId": "521f29d6-f577-4aae-bf2d-add34f01f340"
      },
      "source": [
        "validset = train.flow_from_directory(dest,\n",
        "target_size = (IMG_SIZE,IMG_SIZE),\n",
        "batch_size = BS,\n",
        "shuffle=False,\n",
        "seed=42,\n",
        "color_mode='rgb',\n",
        "subset = \"validation\",\n",
        "class_mode='categorical')"
      ],
      "execution_count": 70,
      "outputs": [
        {
          "output_type": "stream",
          "text": [
            "Found 4998 images belonging to 2 classes.\n"
          ],
          "name": "stdout"
        }
      ]
    },
    {
      "cell_type": "code",
      "metadata": {
        "id": "MillPWtddpYn"
      },
      "source": [
        "NUM_CLASSES = 2"
      ],
      "execution_count": 71,
      "outputs": []
    },
    {
      "cell_type": "code",
      "metadata": {
        "id": "Yi7Fr-0PiHND",
        "colab": {
          "base_uri": "https://localhost:8080/"
        },
        "outputId": "4609e014-5bcd-4d4d-bd67-d99bb44ff04e"
      },
      "source": [
        "# load the MobileNetV2 network, ensuring the head FC layer sets are\n",
        "# left off\n",
        "baseModel = MobileNetV2(weights=\"imagenet\", include_top=False,input_tensor=Input(shape=(IMG_SIZE,IMG_SIZE, 3)))\n",
        "\n",
        "\n",
        "# construct the head of the model that will be placed on top of the\n",
        "# the base model\n",
        "headModel = baseModel.output\n",
        "headModel = AveragePooling2D(pool_size=(5, 5))(headModel)\n",
        "headModel = Flatten(name=\"flatten\")(headModel)\n",
        "headModel = Dense(64, activation=\"relu\")(headModel)\n",
        "headModel = Dropout(0.5)(headModel)\n",
        "headModel = Dense(NUM_CLASSES, activation=\"softmax\")(headModel)\n",
        "# place the head FC model on top of the base model (this will become\n",
        "# the actual model we will train)\n",
        "model = Model(inputs=baseModel.input, outputs=headModel)\n",
        "# loop over all layers in the base model and freeze them so they will\n",
        "# *not* be updated during the first training process\n",
        "for layer in baseModel.layers:\n",
        "\tlayer.trainable = False\n",
        "\n",
        "\n",
        "# compile our model\n",
        "print(\"[INFO] compiling model...\")\n",
        "opt = SGD(learning_rate=INIT_LR,momentum=0.9)\n",
        "model.compile(loss=\"binary_crossentropy\", optimizer=opt,\n",
        "\tmetrics=[\"accuracy\"])\n",
        "# train the head of the network\n",
        "print(\"[INFO] training head...\")"
      ],
      "execution_count": 73,
      "outputs": [
        {
          "output_type": "stream",
          "text": [
            "WARNING:tensorflow:`input_shape` is undefined or non-square, or `rows` is not in [96, 128, 160, 192, 224]. Weights for input shape (224, 224) will be loaded as the default.\n",
            "[INFO] compiling model...\n",
            "[INFO] training head...\n"
          ],
          "name": "stdout"
        }
      ]
    },
    {
      "cell_type": "code",
      "metadata": {
        "id": "GG3PtSgykHyQ",
        "colab": {
          "base_uri": "https://localhost:8080/"
        },
        "outputId": "c92a550f-528f-4ab5-92f3-b463fc29fb60"
      },
      "source": [
        "H = model.fit_generator(\n",
        "\ttrainset,\n",
        "  validation_data = validset,\n",
        "\tepochs=EPOCHS)"
      ],
      "execution_count": 76,
      "outputs": [
        {
          "output_type": "stream",
          "text": [
            "/usr/local/lib/python3.7/dist-packages/tensorflow/python/keras/engine/training.py:1940: UserWarning: `Model.fit_generator` is deprecated and will be removed in a future version. Please use `Model.fit`, which supports generators.\n",
            "  warnings.warn('`Model.fit_generator` is deprecated and '\n"
          ],
          "name": "stderr"
        },
        {
          "output_type": "stream",
          "text": [
            "Epoch 1/20\n",
            "1179/1250 [===========================>..] - ETA: 14s - loss: 0.5591 - accuracy: 0.7528"
          ],
          "name": "stdout"
        },
        {
          "output_type": "stream",
          "text": [
            "/usr/local/lib/python3.7/dist-packages/PIL/TiffImagePlugin.py:770: UserWarning: Possibly corrupt EXIF data.  Expecting to read 32 bytes but only got 0. Skipping tag 270\n",
            "  \" Skipping tag %s\" % (size, len(data), tag)\n",
            "/usr/local/lib/python3.7/dist-packages/PIL/TiffImagePlugin.py:770: UserWarning: Possibly corrupt EXIF data.  Expecting to read 5 bytes but only got 0. Skipping tag 271\n",
            "  \" Skipping tag %s\" % (size, len(data), tag)\n",
            "/usr/local/lib/python3.7/dist-packages/PIL/TiffImagePlugin.py:770: UserWarning: Possibly corrupt EXIF data.  Expecting to read 8 bytes but only got 0. Skipping tag 272\n",
            "  \" Skipping tag %s\" % (size, len(data), tag)\n",
            "/usr/local/lib/python3.7/dist-packages/PIL/TiffImagePlugin.py:770: UserWarning: Possibly corrupt EXIF data.  Expecting to read 8 bytes but only got 0. Skipping tag 282\n",
            "  \" Skipping tag %s\" % (size, len(data), tag)\n",
            "/usr/local/lib/python3.7/dist-packages/PIL/TiffImagePlugin.py:770: UserWarning: Possibly corrupt EXIF data.  Expecting to read 8 bytes but only got 0. Skipping tag 283\n",
            "  \" Skipping tag %s\" % (size, len(data), tag)\n",
            "/usr/local/lib/python3.7/dist-packages/PIL/TiffImagePlugin.py:770: UserWarning: Possibly corrupt EXIF data.  Expecting to read 20 bytes but only got 0. Skipping tag 306\n",
            "  \" Skipping tag %s\" % (size, len(data), tag)\n",
            "/usr/local/lib/python3.7/dist-packages/PIL/TiffImagePlugin.py:770: UserWarning: Possibly corrupt EXIF data.  Expecting to read 48 bytes but only got 0. Skipping tag 532\n",
            "  \" Skipping tag %s\" % (size, len(data), tag)\n",
            "/usr/local/lib/python3.7/dist-packages/PIL/TiffImagePlugin.py:788: UserWarning: Corrupt EXIF data.  Expecting to read 2 bytes but only got 0. \n",
            "  warnings.warn(str(msg))\n"
          ],
          "name": "stderr"
        },
        {
          "output_type": "stream",
          "text": [
            "1250/1250 [==============================] - 307s 246ms/step - loss: 0.5493 - accuracy: 0.7577 - val_loss: 0.3296 - val_accuracy: 0.8752\n",
            "Epoch 2/20\n",
            "1250/1250 [==============================] - 306s 244ms/step - loss: 0.3510 - accuracy: 0.8587 - val_loss: 0.2697 - val_accuracy: 0.8930\n",
            "Epoch 3/20\n",
            "1250/1250 [==============================] - 305s 244ms/step - loss: 0.3064 - accuracy: 0.8787 - val_loss: 0.2439 - val_accuracy: 0.9028\n",
            "Epoch 4/20\n",
            "1250/1250 [==============================] - 305s 244ms/step - loss: 0.2870 - accuracy: 0.8814 - val_loss: 0.2248 - val_accuracy: 0.9112\n",
            "Epoch 5/20\n",
            "1250/1250 [==============================] - 305s 244ms/step - loss: 0.2684 - accuracy: 0.8917 - val_loss: 0.2188 - val_accuracy: 0.9138\n",
            "Epoch 6/20\n",
            "1250/1250 [==============================] - 305s 244ms/step - loss: 0.2559 - accuracy: 0.8954 - val_loss: 0.2117 - val_accuracy: 0.9120\n",
            "Epoch 7/20\n",
            "1250/1250 [==============================] - 305s 244ms/step - loss: 0.2434 - accuracy: 0.9036 - val_loss: 0.2055 - val_accuracy: 0.9186\n",
            "Epoch 8/20\n",
            "1250/1250 [==============================] - 305s 244ms/step - loss: 0.2428 - accuracy: 0.9021 - val_loss: 0.2053 - val_accuracy: 0.9160\n",
            "Epoch 9/20\n",
            "1250/1250 [==============================] - 306s 245ms/step - loss: 0.2339 - accuracy: 0.9057 - val_loss: 0.2012 - val_accuracy: 0.9162\n",
            "Epoch 10/20\n",
            "1250/1250 [==============================] - 307s 245ms/step - loss: 0.2296 - accuracy: 0.9069 - val_loss: 0.1928 - val_accuracy: 0.9224\n",
            "Epoch 11/20\n",
            "1250/1250 [==============================] - 306s 245ms/step - loss: 0.2256 - accuracy: 0.9093 - val_loss: 0.2082 - val_accuracy: 0.9092\n",
            "Epoch 12/20\n",
            "1250/1250 [==============================] - 307s 246ms/step - loss: 0.2272 - accuracy: 0.9080 - val_loss: 0.1864 - val_accuracy: 0.9278\n",
            "Epoch 13/20\n",
            "1250/1250 [==============================] - 309s 247ms/step - loss: 0.2166 - accuracy: 0.9123 - val_loss: 0.1865 - val_accuracy: 0.9228\n",
            "Epoch 14/20\n",
            "1250/1250 [==============================] - 308s 247ms/step - loss: 0.2236 - accuracy: 0.9100 - val_loss: 0.1877 - val_accuracy: 0.9254\n",
            "Epoch 15/20\n",
            "1250/1250 [==============================] - 308s 247ms/step - loss: 0.2201 - accuracy: 0.9100 - val_loss: 0.1874 - val_accuracy: 0.9226\n",
            "Epoch 16/20\n",
            "1250/1250 [==============================] - 308s 247ms/step - loss: 0.2190 - accuracy: 0.9122 - val_loss: 0.1937 - val_accuracy: 0.9226\n",
            "Epoch 17/20\n",
            "1250/1250 [==============================] - 306s 245ms/step - loss: 0.2122 - accuracy: 0.9134 - val_loss: 0.1865 - val_accuracy: 0.9228\n",
            "Epoch 18/20\n",
            "1250/1250 [==============================] - 306s 245ms/step - loss: 0.2153 - accuracy: 0.9106 - val_loss: 0.1891 - val_accuracy: 0.9228\n",
            "Epoch 19/20\n",
            "1250/1250 [==============================] - 307s 245ms/step - loss: 0.2084 - accuracy: 0.9161 - val_loss: 0.1874 - val_accuracy: 0.9234\n",
            "Epoch 20/20\n",
            "1250/1250 [==============================] - 307s 246ms/step - loss: 0.2057 - accuracy: 0.9168 - val_loss: 0.1787 - val_accuracy: 0.9292\n"
          ],
          "name": "stdout"
        }
      ]
    },
    {
      "cell_type": "code",
      "metadata": {
        "id": "cm8O4a_63rFN",
        "colab": {
          "base_uri": "https://localhost:8080/"
        },
        "outputId": "52bda982-1a94-420d-d29e-d6396252e5bb"
      },
      "source": [
        "# serialize the model to disk\n",
        "print(\"[INFO] saving mask detector model...\")\n",
        "model.save('cat_dog', save_format=\"h5\")"
      ],
      "execution_count": 77,
      "outputs": [
        {
          "output_type": "stream",
          "text": [
            "[INFO] saving mask detector model...\n"
          ],
          "name": "stdout"
        },
        {
          "output_type": "stream",
          "text": [
            "/usr/local/lib/python3.7/dist-packages/tensorflow/python/keras/utils/generic_utils.py:497: CustomMaskWarning: Custom mask layers require a config and must override get_config. When loading, the custom mask layer must be passed to the custom_objects argument.\n",
            "  category=CustomMaskWarning)\n"
          ],
          "name": "stderr"
        }
      ]
    },
    {
      "cell_type": "code",
      "metadata": {
        "id": "0DHfpNqekjHU",
        "colab": {
          "base_uri": "https://localhost:8080/",
          "height": 317
        },
        "outputId": "de8ca5bf-0543-4e60-c542-9a1383005dba"
      },
      "source": [
        "# plot the training loss and accuracy\n",
        "N = EPOCHS\n",
        "plt.style.use(\"ggplot\")\n",
        "plt.figure()\n",
        "plt.plot(np.arange(0, N), H.history[\"loss\"], label=\"train_loss\")\n",
        "plt.plot(np.arange(0, N), H.history[\"val_loss\"], label=\"val_loss\")\n",
        "plt.plot(np.arange(0, N), H.history[\"accuracy\"], label=\"train_acc\")\n",
        "plt.plot(np.arange(0, N), H.history[\"val_accuracy\"], label=\"val_acc\")\n",
        "plt.title(\"Training Loss and Accuracy\")\n",
        "plt.xlabel(\"Epoch #\")\n",
        "plt.ylabel(\"Loss/Accuracy\")\n",
        "plt.legend(loc=\"lower left\")\n",
        "plt.show()\n",
        "plt.savefig('graph.png')"
      ],
      "execution_count": 78,
      "outputs": [
        {
          "output_type": "display_data",
          "data": {
            "image/png": "[encoded data removed]",
            "text/plain": [
              "<Figure size 432x288 with 1 Axes>"
            ]
          },
          "metadata": {
            "tags": []
          }
        },
        {
          "output_type": "display_data",
          "data": {
            "text/plain": [
              "<Figure size 432x288 with 0 Axes>"
            ]
          },
          "metadata": {
            "tags": []
          }
        }
      ]
    }
  ]
}